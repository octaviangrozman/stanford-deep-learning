{
 "cells": [
  {
   "cell_type": "code",
   "execution_count": 1,
   "metadata": {},
   "outputs": [],
   "source": [
    "import numpy as np\n",
    "\n",
    "def rel_error(x, y):\n",
    "  \"\"\" returns relative error \"\"\"\n",
    "  return np.max(np.abs(x - y) / (np.maximum(1e-8, np.abs(x) + np.abs(y))))"
   ]
  },
  {
   "cell_type": "code",
   "execution_count": 4,
   "metadata": {},
   "outputs": [
    {
     "data": {
      "text/plain": [
       "array([2, 4, 6])"
      ]
     },
     "execution_count": 4,
     "metadata": {},
     "output_type": "execute_result"
    }
   ],
   "source": [
    "x = [1, -2, 3]\n",
    "y = [2, 4, -6]\n",
    "np.abs(y)"
   ]
  },
  {
   "cell_type": "code",
   "execution_count": 5,
   "metadata": {},
   "outputs": [
    {
     "data": {
      "text/plain": [
       "array([3, 6, 9])"
      ]
     },
     "execution_count": 5,
     "metadata": {},
     "output_type": "execute_result"
    }
   ],
   "source": [
    "np.abs(x) + np.abs(y)"
   ]
  },
  {
   "cell_type": "code",
   "execution_count": 6,
   "metadata": {},
   "outputs": [
    {
     "data": {
      "text/plain": [
       "1e-08"
      ]
     },
     "execution_count": 6,
     "metadata": {},
     "output_type": "execute_result"
    }
   ],
   "source": [
    "1e-8"
   ]
  },
  {
   "cell_type": "code",
   "execution_count": 7,
   "metadata": {},
   "outputs": [
    {
     "data": {
      "text/plain": [
       "array([3., 6., 9.])"
      ]
     },
     "execution_count": 7,
     "metadata": {},
     "output_type": "execute_result"
    }
   ],
   "source": [
    "np.maximum(1e-8, np.abs(x) + np.abs(y))"
   ]
  },
  {
   "cell_type": "code",
   "execution_count": 8,
   "metadata": {},
   "outputs": [
    {
     "data": {
      "text/plain": [
       "array([1.e-08, 1.e-08, 1.e-08])"
      ]
     },
     "execution_count": 8,
     "metadata": {},
     "output_type": "execute_result"
    }
   ],
   "source": [
    "np.maximum(1e-8, [0,0,0])"
   ]
  },
  {
   "cell_type": "code",
   "execution_count": 9,
   "metadata": {},
   "outputs": [
    {
     "ename": "TypeError",
     "evalue": "unsupported operand type(s) for -: 'list' and 'list'",
     "output_type": "error",
     "traceback": [
      "\u001b[0;31m---------------------------------------------------------------------------\u001b[0m",
      "\u001b[0;31mTypeError\u001b[0m                                 Traceback (most recent call last)",
      "\u001b[0;32m<ipython-input-9-4c319a775070>\u001b[0m in \u001b[0;36m<module>\u001b[0;34m\u001b[0m\n\u001b[0;32m----> 1\u001b[0;31m \u001b[0mnp\u001b[0m\u001b[0;34m.\u001b[0m\u001b[0mabs\u001b[0m\u001b[0;34m(\u001b[0m\u001b[0mx\u001b[0m \u001b[0;34m-\u001b[0m \u001b[0my\u001b[0m\u001b[0;34m)\u001b[0m\u001b[0;34m\u001b[0m\u001b[0m\n\u001b[0m",
      "\u001b[0;31mTypeError\u001b[0m: unsupported operand type(s) for -: 'list' and 'list'"
     ]
    }
   ],
   "source": [
    "np.abs(x - y)"
   ]
  },
  {
   "cell_type": "code",
   "execution_count": 10,
   "metadata": {},
   "outputs": [
    {
     "ename": "TypeError",
     "evalue": "unsupported operand type(s) for -: 'list' and 'list'",
     "output_type": "error",
     "traceback": [
      "\u001b[0;31m---------------------------------------------------------------------------\u001b[0m",
      "\u001b[0;31mTypeError\u001b[0m                                 Traceback (most recent call last)",
      "\u001b[0;32m<ipython-input-10-4b4a2a8bc3b2>\u001b[0m in \u001b[0;36m<module>\u001b[0;34m\u001b[0m\n\u001b[0;32m----> 1\u001b[0;31m \u001b[0mrel_error\u001b[0m\u001b[0;34m(\u001b[0m\u001b[0mx\u001b[0m\u001b[0;34m,\u001b[0m \u001b[0my\u001b[0m\u001b[0;34m)\u001b[0m\u001b[0;34m\u001b[0m\u001b[0m\n\u001b[0m",
      "\u001b[0;32m<ipython-input-1-0b91c1a1105a>\u001b[0m in \u001b[0;36mrel_error\u001b[0;34m(x, y)\u001b[0m\n\u001b[1;32m      3\u001b[0m \u001b[0;32mdef\u001b[0m \u001b[0mrel_error\u001b[0m\u001b[0;34m(\u001b[0m\u001b[0mx\u001b[0m\u001b[0;34m,\u001b[0m \u001b[0my\u001b[0m\u001b[0;34m)\u001b[0m\u001b[0;34m:\u001b[0m\u001b[0;34m\u001b[0m\u001b[0m\n\u001b[1;32m      4\u001b[0m   \u001b[0;34m\"\"\" returns relative error \"\"\"\u001b[0m\u001b[0;34m\u001b[0m\u001b[0m\n\u001b[0;32m----> 5\u001b[0;31m   \u001b[0;32mreturn\u001b[0m \u001b[0mnp\u001b[0m\u001b[0;34m.\u001b[0m\u001b[0mmax\u001b[0m\u001b[0;34m(\u001b[0m\u001b[0mnp\u001b[0m\u001b[0;34m.\u001b[0m\u001b[0mabs\u001b[0m\u001b[0;34m(\u001b[0m\u001b[0mx\u001b[0m \u001b[0;34m-\u001b[0m \u001b[0my\u001b[0m\u001b[0;34m)\u001b[0m \u001b[0;34m/\u001b[0m \u001b[0;34m(\u001b[0m\u001b[0mnp\u001b[0m\u001b[0;34m.\u001b[0m\u001b[0mmaximum\u001b[0m\u001b[0;34m(\u001b[0m\u001b[0;36m1e-8\u001b[0m\u001b[0;34m,\u001b[0m \u001b[0mnp\u001b[0m\u001b[0;34m.\u001b[0m\u001b[0mabs\u001b[0m\u001b[0;34m(\u001b[0m\u001b[0mx\u001b[0m\u001b[0;34m)\u001b[0m \u001b[0;34m+\u001b[0m \u001b[0mnp\u001b[0m\u001b[0;34m.\u001b[0m\u001b[0mabs\u001b[0m\u001b[0;34m(\u001b[0m\u001b[0my\u001b[0m\u001b[0;34m)\u001b[0m\u001b[0;34m)\u001b[0m\u001b[0;34m)\u001b[0m\u001b[0;34m)\u001b[0m\u001b[0;34m\u001b[0m\u001b[0m\n\u001b[0m",
      "\u001b[0;31mTypeError\u001b[0m: unsupported operand type(s) for -: 'list' and 'list'"
     ]
    }
   ],
   "source": [
    "rel_error(x, y)"
   ]
  },
  {
   "cell_type": "code",
   "execution_count": 18,
   "metadata": {},
   "outputs": [
    {
     "data": {
      "text/plain": [
       "0.8461538461538461"
      ]
     },
     "execution_count": 18,
     "metadata": {},
     "output_type": "execute_result"
    }
   ],
   "source": [
    "rel_error(5, 60)"
   ]
  },
  {
   "cell_type": "code",
   "execution_count": 24,
   "metadata": {},
   "outputs": [
    {
     "data": {
      "text/plain": [
       "60"
      ]
     },
     "execution_count": 24,
     "metadata": {},
     "output_type": "execute_result"
    }
   ],
   "source": [
    "num_inputs = 2\n",
    "input_shape = (4, 5, 6)\n",
    "output_dim = 3\n",
    "\n",
    "input_size = num_inputs * np.prod(input_shape)\n",
    "weight_size = output_dim * np.prod(input_shape)\n",
    "2 * np.prod((1, 5, 6))"
   ]
  },
  {
   "cell_type": "code",
   "execution_count": 34,
   "metadata": {},
   "outputs": [
    {
     "name": "stdout",
     "output_type": "stream",
     "text": [
      "(2, 4, 5, 6)\n",
      "(120, 3)\n",
      "(3,)\n",
      "[[-0.1        -0.09748954 -0.09497908 -0.09246862 -0.08995816 -0.0874477 ]\n",
      " [-0.08493724 -0.08242678 -0.07991632 -0.07740586 -0.0748954  -0.07238494]\n",
      " [-0.06987448 -0.06736402 -0.06485356 -0.0623431  -0.05983264 -0.05732218]\n",
      " [-0.05481172 -0.05230126 -0.04979079 -0.04728033 -0.04476987 -0.04225941]\n",
      " [-0.03974895 -0.03723849 -0.03472803 -0.03221757 -0.02970711 -0.02719665]]\n"
     ]
    }
   ],
   "source": [
    "x = np.linspace(-0.1, 0.5, num=input_size).reshape(num_inputs, *input_shape)\n",
    "w = np.linspace(-0.2, 0.3, num=weight_size).reshape(np.prod(input_shape), output_dim)\n",
    "b = np.linspace(-0.3, 0.1, num=output_dim)\n",
    "\n",
    "print(x.shape)\n",
    "print(w.shape)\n",
    "print(b.shape)\n",
    "\n",
    "print(x[0][0])"
   ]
  },
  {
   "cell_type": "code",
   "execution_count": 46,
   "metadata": {},
   "outputs": [
    {
     "name": "stdout",
     "output_type": "stream",
     "text": [
      "x_reshaped shape:  (2, 120)\n",
      "[[1.79834967 1.80660132 1.81485297]\n",
      " [3.55553199 3.6141327  3.67273342]]\n",
      "bias:  [-0.3 -0.1  0.1]\n"
     ]
    },
    {
     "data": {
      "text/plain": [
       "array([[1.49834967, 1.70660132, 1.91485297],\n",
       "       [3.25553199, 3.5141327 , 3.77273342]])"
      ]
     },
     "execution_count": 46,
     "metadata": {},
     "output_type": "execute_result"
    }
   ],
   "source": [
    "\"\"\" forward pass \"\"\"\n",
    "x_reshaped = x.reshape(x.shape[0], -1)\n",
    "print('x_reshaped shape: ', str(x_reshaped.shape))\n",
    "out = x_reshaped.dot(w)\n",
    "out.shape\n",
    "print(out)\n",
    "out = out + b\n",
    "print('bias: ', b)\n",
    "out"
   ]
  },
  {
   "cell_type": "code",
   "execution_count": 47,
   "metadata": {},
   "outputs": [],
   "source": [
    "# Test the affine_backward function\n",
    "np.random.seed(231)\n",
    "x = np.random.randn(10, 2, 3)\n",
    "w = np.random.randn(6, 5)\n",
    "b = np.random.randn(5)\n",
    "dout = np.random.randn(10, 5)"
   ]
  },
  {
   "cell_type": "code",
   "execution_count": 51,
   "metadata": {},
   "outputs": [
    {
     "data": {
      "text/plain": [
       "array([[-1.80480094,  0.53770564, -0.12171369, -1.04250949,  0.13828792],\n",
       "       [-0.22557183, -1.1928829 , -0.68320696,  0.19909408,  0.03070661],\n",
       "       [-0.44972639,  0.14447532, -0.35229594,  0.4882136 , -0.4347099 ],\n",
       "       [-0.28692265, -0.84338097, -0.10827394,  0.85434757, -0.90377338],\n",
       "       [-1.0525584 , -0.30409794,  0.18083726, -0.4125417 ,  1.22913948],\n",
       "       [-0.97791748, -0.63978524, -0.00880963,  0.36213294,  0.35148162],\n",
       "       [-1.20064035, -0.84272962,  1.61832501, -2.39079478,  0.88256212],\n",
       "       [-1.12082008,  0.12416778, -2.43434598, -1.62701704, -1.10613945],\n",
       "       [ 2.00862337,  0.91447992, -0.86943856,  0.13741017, -0.72261465],\n",
       "       [-0.6755518 , -0.04084145, -1.15755894, -0.67498124,  0.44252644]])"
      ]
     },
     "execution_count": 51,
     "metadata": {},
     "output_type": "execute_result"
    }
   ],
   "source": [
    "dout"
   ]
  },
  {
   "cell_type": "code",
   "execution_count": 54,
   "metadata": {},
   "outputs": [],
   "source": [
    "from cs231n.gradient_check import eval_numerical_gradient, eval_numerical_gradient_array\n",
    "\n",
    "# dx_num = eval_numerical_gradient_array(lambda x: affine_forward(x, w, b)[0], x, dout)\n",
    "# dw_num = eval_numerical_gradient_array(lambda w: affine_forward(x, w, b)[0], w, dout)\n",
    "# db_num = eval_numerical_gradient_array(lambda b: affine_forward(x, w, b)[0], b, dout)\n",
    "# dx_num"
   ]
  },
  {
   "cell_type": "code",
   "execution_count": 56,
   "metadata": {},
   "outputs": [
    {
     "data": {
      "text/plain": [
       "array([[-0.5       , -0.40909091, -0.31818182, -0.22727273],\n",
       "       [-0.13636364, -0.04545455,  0.04545455,  0.13636364],\n",
       "       [ 0.22727273,  0.31818182,  0.40909091,  0.5       ]])"
      ]
     },
     "execution_count": 56,
     "metadata": {},
     "output_type": "execute_result"
    }
   ],
   "source": [
    "x = np.linspace(-0.5, 0.5, num=12).reshape(3, 4)\n",
    "x"
   ]
  },
  {
   "cell_type": "code",
   "execution_count": 65,
   "metadata": {},
   "outputs": [
    {
     "data": {
      "text/plain": [
       "array([[ 0.00078546,  0.00052003, -0.00047831, -0.00020406, -0.00095556],\n",
       "       [-0.00168961,  0.00037476,  0.00082023, -0.00185008,  0.00082419],\n",
       "       [-0.00128956, -0.00150315, -0.00136003,  0.00134741,  0.0007343 ]])"
      ]
     },
     "execution_count": 65,
     "metadata": {},
     "output_type": "execute_result"
    }
   ],
   "source": [
    "0.001 * np.random.randn(3, 5)"
   ]
  },
  {
   "cell_type": "code",
   "execution_count": 67,
   "metadata": {},
   "outputs": [
    {
     "data": {
      "text/plain": [
       "array([18, 46, 42])"
      ]
     },
     "execution_count": 67,
     "metadata": {},
     "output_type": "execute_result"
    }
   ],
   "source": [
    "np.random.randint(50, size=3)"
   ]
  },
  {
   "cell_type": "code",
   "execution_count": 88,
   "metadata": {},
   "outputs": [
    {
     "name": "stdout",
     "output_type": "stream",
     "text": [
      "[[ 4.17943411e-04  1.39710028e-03]\n",
      " [-1.78590431e-03 -7.08827734e-04]\n",
      " [-7.47253161e-05 -7.75016769e-04]\n",
      " [-1.49797903e-04  1.86172902e-03]\n",
      " [-1.42552930e-03 -3.76356699e-04]]\n",
      "[0 0 0 1 0]\n"
     ]
    }
   ],
   "source": [
    "# testing softmax\n",
    "np.random.seed(231)\n",
    "num_classes, num_inputs = 2, 5\n",
    "x = 0.001 * np.random.randn(num_inputs, num_classes)\n",
    "y = np.random.randint(num_classes, size=num_inputs)\n",
    "\n",
    "print(x)\n",
    "print(y)"
   ]
  },
  {
   "cell_type": "code",
   "execution_count": 90,
   "metadata": {},
   "outputs": [
    {
     "data": {
      "text/plain": [
       "array([[-0.00097916,  0.        ],\n",
       "       [-0.00107708,  0.        ],\n",
       "       [ 0.        , -0.00070029],\n",
       "       [-0.00201153,  0.        ],\n",
       "       [-0.00104917,  0.        ]])"
      ]
     },
     "execution_count": 90,
     "metadata": {},
     "output_type": "execute_result"
    }
   ],
   "source": [
    "# calculating softmax\n",
    "shifted_logits = x - np.max(x, axis=1, keepdims=True)\n",
    "x - np.max(x, axis=1, keepdims=True)"
   ]
  },
  {
   "cell_type": "code",
   "execution_count": 112,
   "metadata": {},
   "outputs": [
    {
     "name": "stdout",
     "output_type": "stream",
     "text": [
      "[[0.99902132 1.        ]\n",
      " [0.9989235  1.        ]\n",
      " [1.         0.99929995]\n",
      " [0.99799049 1.        ]\n",
      " [0.99895138 1.        ]]\n"
     ]
    },
    {
     "data": {
      "text/plain": [
       "array([[1.99902132],\n",
       "       [1.9989235 ],\n",
       "       [1.99929995],\n",
       "       [1.99799049],\n",
       "       [1.99895138]])"
      ]
     },
     "execution_count": 112,
     "metadata": {},
     "output_type": "execute_result"
    }
   ],
   "source": [
    "Z = np.sum(np.exp(shifted_logits), axis=1, keepdims=True)\n",
    "print(np.exp(shifted_logits))\n",
    "np.sum(np.exp(shifted_logits), axis=1, keepdims=True)"
   ]
  },
  {
   "cell_type": "code",
   "execution_count": 114,
   "metadata": {},
   "outputs": [
    {
     "name": "stdout",
     "output_type": "stream",
     "text": [
      "[[0.69265772]\n",
      " [0.69260879]\n",
      " [0.6927971 ]\n",
      " [0.69214192]\n",
      " [0.69262273]]\n",
      "[[-0.69363688 -0.69265772]\n",
      " [-0.69368586 -0.69260879]\n",
      " [-0.6927971  -0.69349739]\n",
      " [-0.69415345 -0.69214192]\n",
      " [-0.6936719  -0.69262273]]\n"
     ]
    }
   ],
   "source": [
    "print(np.log(Z))\n",
    "log_probs = shifted_logits - np.log(Z)\n",
    "print(log_probs)"
   ]
  },
  {
   "cell_type": "code",
   "execution_count": 115,
   "metadata": {},
   "outputs": [
    {
     "name": "stdout",
     "output_type": "stream",
     "text": [
      "[[0.49975521 0.50024479]\n",
      " [0.49973073 0.50026927]\n",
      " [0.50017507 0.49982493]\n",
      " [0.49949712 0.50050288]\n",
      " [0.49973771 0.50026229]]\n"
     ]
    }
   ],
   "source": [
    "probs = np.exp(log_probs)\n",
    "print(probs)"
   ]
  },
  {
   "cell_type": "code",
   "execution_count": 118,
   "metadata": {},
   "outputs": [
    {
     "data": {
      "text/plain": [
       "array([-0.69363688, -0.69368586, -0.6927971 , -0.69214192, -0.6936719 ])"
      ]
     },
     "execution_count": 118,
     "metadata": {},
     "output_type": "execute_result"
    }
   ],
   "source": [
    "N = x.shape[0]\n",
    "loss = -np.sum(log_probs[np.arange(N), y]) / N\n",
    "dx = probs.copy()\n",
    "dx[np.arange(N), y] -= 1\n",
    "dx /= N\n",
    "log_probs[np.arange(N), y]"
   ]
  },
  {
   "cell_type": "code",
   "execution_count": 148,
   "metadata": {},
   "outputs": [
    {
     "name": "stdout",
     "output_type": "stream",
     "text": [
      "[ 0.41794341  1.39710028 -1.78590431 -0.70882773 -0.07472532]\n",
      "[ 0.18690998  0.62480224 -0.79868069 -0.3169974  -0.03341818]\n",
      "[-0.02769988 -0.09259511  0.11836373  0.04697872  0.00495254]\n",
      "1.0685639056136496\n",
      "0.07072744849644229\n"
     ]
    }
   ],
   "source": [
    "# testing weight initialization with Gaussian distribution\n",
    "np.random.seed(231)\n",
    "N = 5\n",
    "weight_scale = 0.0001\n",
    "x = np.random.randn(5)\n",
    "x1 = x / np.mean(x, axis = 0)\n",
    "x1 = x1 * np.sqrt(weight_scale)\n",
    "print(x)\n",
    "print(x / np.sqrt(N))\n",
    "print(x1)\n",
    "print(abs(x.std() - weight_scale))\n",
    "print(abs(x1.std() - weight_scale))"
   ]
  },
  {
   "cell_type": "code",
   "execution_count": null,
   "metadata": {},
   "outputs": [],
   "source": []
  }
 ],
 "metadata": {
  "kernelspec": {
   "display_name": "Python 3",
   "language": "python",
   "name": "python3"
  },
  "language_info": {
   "codemirror_mode": {
    "name": "ipython",
    "version": 3
   },
   "file_extension": ".py",
   "mimetype": "text/x-python",
   "name": "python",
   "nbconvert_exporter": "python",
   "pygments_lexer": "ipython3",
   "version": "3.6.6"
  }
 },
 "nbformat": 4,
 "nbformat_minor": 2
}
